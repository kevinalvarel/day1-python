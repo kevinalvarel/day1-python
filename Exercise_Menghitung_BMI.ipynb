{
  "nbformat": 4,
  "nbformat_minor": 0,
  "metadata": {
    "colab": {
      "provenance": [],
      "authorship_tag": "ABX9TyNBvoiXeN1+6DPSr40+0Cxn",
      "include_colab_link": true
    },
    "kernelspec": {
      "name": "python3",
      "display_name": "Python 3"
    },
    "language_info": {
      "name": "python"
    }
  },
  "cells": [
    {
      "cell_type": "markdown",
      "metadata": {
        "id": "view-in-github",
        "colab_type": "text"
      },
      "source": [
        "<a href=\"https://colab.research.google.com/github/kevinalvarel/day1-python/blob/main/Exercise_Menghitung_BMI.ipynb\" target=\"_parent\"><img src=\"https://colab.research.google.com/assets/colab-badge.svg\" alt=\"Open In Colab\"/></a>"
      ]
    },
    {
      "cell_type": "code",
      "execution_count": 19,
      "metadata": {
        "colab": {
          "base_uri": "https://localhost:8080/"
        },
        "id": "qYISzq-MthSJ",
        "outputId": "27cf2328-eb0b-4bcd-e4fc-8b40585b57b4"
      },
      "outputs": [
        {
          "name": "stdout",
          "output_type": "stream",
          "text": [
            "Program Kategori BMI\n",
            "Masukkan berat badan (kg): 80\n",
            "Masukkan tinggi badan (m): 1.85\n"
          ]
        }
      ],
      "source": [
        "# Program BMI Calculator\n",
        "print(\"Program Kategori BMI\")\n",
        "\n",
        "berat = float(input(\"Masukkan berat badan (kg): \"))\n",
        "tinggi = float(input(\"Masukkan tinggi badan (m): \"))"
      ]
    },
    {
      "cell_type": "code",
      "source": [
        "# Validasi input\n",
        "if berat <= 0 or tinggi <= 0:\n",
        "    print(\"Berat dan tinggi harus lebih dari 0!\")\n",
        "else:\n",
        "    # Hitung BMI\n",
        "    bmi = berat / (tinggi * tinggi)\n",
        "    print(f\"BMI Anda: {bmi}\")\n",
        "\n",
        "    # Tentukan kategori BMI\n",
        "    if bmi < 18.5:\n",
        "        print(\"Kategori: Kurus\")\n",
        "        if bmi < 16:\n",
        "            print(\"Status: Sangat kurus\")\n",
        "        else:\n",
        "            print(\"Status: Kurus ringan\")\n",
        "    elif bmi >= 18.5 and bmi < 25:\n",
        "        print(\"Kategori: Normal\")\n",
        "        if bmi < 22:\n",
        "            print(\"Status: Normal ideal\")\n",
        "        else:\n",
        "            print(\"Status: Normal tinggi\")\n",
        "    elif bmi >= 25 and bmi < 30:\n",
        "        print(\"Kategori: Gemuk\")\n",
        "        if bmi < 27.5:\n",
        "            print(\"Status: Gemuk ringan\")\n",
        "        else:\n",
        "            print(\"Status: Gemuk berat\")\n",
        "    else:\n",
        "        print(\"Kategori: Obesitas\")\n",
        "        if bmi < 35:\n",
        "            print(\"Status: Obesitas ringan\")\n",
        "        elif bmi >= 35 and bmi < 40:\n",
        "            print(\"Status: Obesitas sedang\")\n",
        "        else:\n",
        "            print(\"Status: Obesitas berat\")"
      ],
      "metadata": {
        "colab": {
          "base_uri": "https://localhost:8080/"
        },
        "id": "EpUFzs3Mv_dQ",
        "outputId": "691a5594-aa6e-446f-c6fd-1263d30d4411"
      },
      "execution_count": 20,
      "outputs": [
        {
          "output_type": "stream",
          "name": "stdout",
          "text": [
            "BMI Anda: 23.37472607742878\n",
            "Kategori: Normal\n",
            "Status: Normal tinggi\n"
          ]
        }
      ]
    }
  ]
}